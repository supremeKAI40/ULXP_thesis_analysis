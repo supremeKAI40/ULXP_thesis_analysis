{
 "cells": [
  {
   "cell_type": "code",
   "execution_count": 33,
   "metadata": {},
   "outputs": [],
   "source": [
    "from astropy.io import fits\n",
    "import numpy as np\n",
    "import os\n",
    "import matplotlib.pyplot as plt"
   ]
  },
  {
   "cell_type": "code",
   "execution_count": 34,
   "metadata": {},
   "outputs": [],
   "source": [
    "# Orbital parameters provided\n",
    "a_sin_i = 115.531  # Semi-major axis in light-seconds\n",
    "P_orb = 27.6943 * 86400  # Orbital period in seconds\n",
    "e = 0.1029  # Eccentricity\n",
    "omega = np.deg2rad(-74.05)  # Longitude of periastron in radians\n",
    "T_pi2 = 58116.097  # T_pi/2 in seconds "
   ]
  },
  {
   "cell_type": "code",
   "execution_count": null,
   "metadata": {},
   "outputs": [],
   "source": [
    "# Step 1: Function to extract MET and header info from FITS file\n",
    "def extract_fits_info(fits_file):\n",
    "    with fits.open(fits_file) as hdul:\n",
    "        header = hdul[1].header  # Assuming the event data is in the 1st extension\n",
    "        mjdrefi = header['MJDREFI']\n",
    "        mjdreff = header['MJDREFF']\n",
    "        leap_seconds = header.get('LEAPINIT', 0)  # Default to 0 if LEAPINT not present\n",
    "        met = hdul[1].data['TIME']  # Assuming MET is stored in the 'TIME' column\n",
    "    return met, mjdrefi, mjdreff, leap_seconds\n",
    "\n",
    "# Step 2: Convert MET to Modified Julian Date (MJD)\n",
    "def convert_met_to_mjd(met, mjdrefi, mjdreff, leap_seconds):\n",
    "    # MET is in seconds, convert it to days\n",
    "    met_in_days = met / 86400.0\n",
    "    # Compute MJD\n",
    "    mjd = met_in_days + mjdrefi + mjdreff + (leap_seconds / 86400.0)\n",
    "    return mjd\n",
    "\n",
    "# Step 2.5: Convert the reference from initial time of kepler orbit.\n",
    "# def convert_mjd_from_t_pi2(mjd):\n",
    "#     elapsed_time= (mjd-T_pi2)*86400\n",
    "#     #elapsed_time= (mjd)\n",
    "#     return elapsed_time\n",
    "\n",
    "# Step 3: Calculate Mean Anomaly M\n",
    "def calculate_mean_anomaly(mjd, T_pi2, P_orb):\n",
    "    return 2 * np.pi * ((mjd - T_pi2)) / P_orb +  np.pi/2\n",
    "\n",
    "# Step 4: Compute Eccentric Anomaly E using Mikkola's cubic approximation variable s\n",
    "def compute_eccentric_anomaly_proxy(mean_anomaly, e):\n",
    "    alpha = (1 - e) / (4 * e + 0.5)\n",
    "    beta = 0.5 * mean_anomaly / (4 * e + 0.5)\n",
    "\n",
    "    # Compute z based on the condition on beta sign\n",
    "    z = np.where(\n",
    "        beta >= 0,\n",
    "        np.cbrt((beta + np.sqrt(beta**2 + alpha**3))),\n",
    "        np.cbrt((beta - np.sqrt(beta**2 + alpha**3)))\n",
    "    )\n",
    "\n",
    "    print(z)\n",
    "\n",
    "    s = z - alpha/z\n",
    "    return s\n",
    "\n",
    "# Step 5: Incorporate error term as done in Mikkola 1987\n",
    "def correct_eccentric_anomaly(mean_anomaly,s, e):\n",
    "    ds = (-0.078 * s**5) / (1 + e)\n",
    "    s_true=s+ds\n",
    "    eccentric_anomaly = mean_anomaly + e * (3 * s_true - 4 * s_true**3)\n",
    "    return eccentric_anomaly\n",
    "\n",
    "# Step 6: Calculate Rømer time delay for the binary system\n",
    "def calculate_romer_delay(eccentric_anomaly, e, a_sin_i,omega):\n",
    "    sin_E = np.sin(eccentric_anomaly)\n",
    "    cos_E = np.cos(eccentric_anomaly)\n",
    "    return (a_sin_i * ( (cos_E-e)*np.sin(omega)+\n",
    "                       np.sqrt(1-e**2) * sin_E * np.cos(omega))\n",
    "                       )\n",
    "\n",
    "# Step 7: Correct Event Timestamp\n",
    "def correct_event_timestamp(met, romer_delay):\n",
    "    return met - romer_delay\n",
    "\n",
    "# Full process combining orbital correction\n",
    "def correct_nicer_timestamps(fits_file):\n",
    "    # Extract information from FITS file\n",
    "    met, mjdrefi, mjdreff, leap_seconds = extract_fits_info(fits_file)\n",
    "    # Convert MET to MJD\n",
    "    mjd = convert_met_to_mjd(met, mjdrefi, mjdreff, leap_seconds)\n",
    "    # Calculate from Kepler reference\n",
    "    # elapsed_time=convert_mjd_from_t_pi2(mjd)\n",
    "    # Calculate Mean Anomaly\n",
    "    mean_anomaly = calculate_mean_anomaly(mjd, T_pi2, P_orb)\n",
    "    \n",
    "    # Compute Eccentric Anomaly\n",
    "    s = compute_eccentric_anomaly_proxy(mean_anomaly, e)\n",
    "    \n",
    "    # Correct Eccentric Anomaly\n",
    "    corrected_eccentric_anomaly = correct_eccentric_anomaly(mean_anomaly,s, e)\n",
    "    \n",
    "    # Calculate Rømer delay\n",
    "    romer_delay = calculate_romer_delay(corrected_eccentric_anomaly, e, a_sin_i,omega)\n",
    "    \n",
    "    # Correct Event Timestamps\n",
    "    corrected_timestamps = correct_event_timestamp(met, romer_delay)\n",
    "\n",
    "    ###Debugging\n",
    "    print(f'MET: {met}')\n",
    "    print(f\"Mean Anomaly: {mean_anomaly}\")\n",
    "    print(f\"Eccentric Anomaly Proxy: {s}\")\n",
    "    print(f\"Corrected Eccentric Anomaly: {corrected_eccentric_anomaly}\")\n",
    "    print(f\"Rømer Delay: {romer_delay}\")\n",
    "    print(f'corrected timestamps: {corrected_timestamps}')\n",
    "\n",
    "    \n",
    "    return met,mjd,corrected_timestamps"
   ]
  },
  {
   "cell_type": "code",
   "execution_count": 27,
   "metadata": {},
   "outputs": [
    {
     "name": "stdout",
     "output_type": "stream",
     "text": [
      "[1.29433985 1.29433985 1.29433985 ... 1.29434009 1.29434009 1.29434009]\n",
      "MET: [3.00001414e+08 3.00001414e+08 3.00001414e+08 ... 3.00046339e+08\n",
      " 3.00046339e+08 3.00046339e+08]\n",
      "Mean Anomaly: [1.57608523 1.57608523 1.57608523 ... 1.5760866  1.5760866  1.5760866 ]\n",
      "Eccentric Anomaly Proxy: [0.53403419 0.53403419 0.53403419 ... 0.53403459 0.53403459 0.53403459]\n",
      "Corrected Eccentric Anomaly: [1.67838114 1.67838114 1.67838114 ... 1.67838249 1.67838249 1.67838249]\n",
      "Rømer Delay: [54.75492686 54.75492686 54.75492686 ... 54.75507141 54.75507141\n",
      " 54.75507141]\n",
      "corrected timestamps: [3.00001359e+08 3.00001359e+08 3.00001359e+08 ... 3.00046284e+08\n",
      " 3.00046284e+08 3.00046284e+08]\n"
     ]
    }
   ],
   "source": [
    "# Example usage:\n",
    "fits_file = './6050390244/xti/event_cl/ni6050390244_0mpu7_cl_night.evt'\n",
    "\n",
    "met,_,corrected_times = correct_nicer_timestamps(fits_file)"
   ]
  },
  {
   "cell_type": "code",
   "execution_count": null,
   "metadata": {},
   "outputs": [],
   "source": [
    "def write_corrected_fits(original_fits, corrected_timestamps):\n",
    "    # Extract the 10-digit identifier from the filename\n",
    "    base_name = os.path.basename(original_fits)\n",
    "    identifier = base_name.split('_')[0]  # Assuming the identifier is the first part of the filename\n",
    "\n",
    "    # Construct the output directory\n",
    "    output_dir = f'{identifier}/xti/event_cl/'\n",
    "\n",
    "    # Create output directory if it doesn't exist\n",
    "    if not os.path.exists(output_dir):\n",
    "        os.makedirs(output_dir)\n",
    "\n",
    "    # Modify the 'TIME' column with corrected timestamps\n",
    "    with fits.open(original_fits, mode='readonly') as hdul:\n",
    "        hdul[1].data['TIME'] = corrected_timestamps\n",
    "        \n",
    "        # Construct the new filename\n",
    "        new_file = os.path.join(output_dir, base_name.replace('.evt', '_corrected.evt'))\n",
    "        \n",
    "        # Write the new FITS file\n",
    "        hdul.writeto(new_file, overwrite=True)\n",
    "    \n",
    "    print(f\"Corrected FITS file saved as {new_file}\")\n",
    "\n",
    "\n",
    "#write_corrected_fits(fits_file,corrected_times)"
   ]
  },
  {
   "cell_type": "code",
   "execution_count": 28,
   "metadata": {},
   "outputs": [
    {
     "data": {
      "text/plain": [
       "array([3.00058074e+08, 3.00058074e+08, 3.00058074e+08, ...,\n",
       "       3.00102999e+08, 3.00102999e+08, 3.00102999e+08])"
      ]
     },
     "execution_count": 28,
     "metadata": {},
     "output_type": "execute_result"
    }
   ],
   "source": [
    "hdu=fits.open(fits_file)\n",
    "hdu[1].data['TIME']+hdu[1].header['MJDREFI']+hdu[1].header['MJDREFF']+hdu[1].header['LEAPINIT']"
   ]
  },
  {
   "cell_type": "code",
   "execution_count": 32,
   "metadata": {},
   "outputs": [
    {
     "data": {
      "text/plain": [
       "[<matplotlib.lines.Line2D at 0x7fc860e4eb90>]"
      ]
     },
     "execution_count": 32,
     "metadata": {},
     "output_type": "execute_result"
    },
    {
     "data": {
      "image/png": "[encoded data removed]",
      "text/plain": [
       "<Figure size 640x480 with 1 Axes>"
      ]
     },
     "metadata": {},
     "output_type": "display_data"
    }
   ],
   "source": [
    "plt.plot(met-met.min(),met-corrected_times)\n",
    "# plt.plot(arrival_times)\n",
    "#plt.plot(met-corrected_times)"
   ]
  }
 ],
 "metadata": {
  "kernelspec": {
   "display_name": "heasoftenv",
   "language": "python",
   "name": "python3"
  },
  "language_info": {
   "codemirror_mode": {
    "name": "ipython",
    "version": 3
   },
   "file_extension": ".py",
   "mimetype": "text/x-python",
   "name": "python",
   "nbconvert_exporter": "python",
   "pygments_lexer": "ipython3",
   "version": "3.11.9"
  }
 },
 "nbformat": 4,
 "nbformat_minor": 2
}
