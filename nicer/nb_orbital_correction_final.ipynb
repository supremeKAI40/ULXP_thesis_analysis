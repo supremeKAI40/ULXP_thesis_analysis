{
 "cells": [
  {
   "cell_type": "code",
   "execution_count": 1,
   "metadata": {},
   "outputs": [],
   "source": [
    "import numpy as np\n",
    "from astropy.io import fits\n",
    "import matplotlib.pyplot as plt\n",
    "import os\n",
    "import re\n",
    "\n",
    "#Source code page: http://astro.uni-tuebingen.de/software/idl/aitlib/astro/binarycor.html\n",
    "#Source code link: http://astro.uni-tuebingen.de/software/idl/aitlib/astro/binarycor.pro"
   ]
  },
  {
   "cell_type": "code",
   "execution_count": 20,
   "metadata": {},
   "outputs": [],
   "source": [
    "def Binary_orbit(time,asini,porb,ecc,omega_d,t0=-1,t90=-1,pporb=0.0,limit=1.0*10**-10,maxiter=40):\n",
    "\n",
    "\ttime=np.array(time)  #time should be an array to prevent round-off errors\n",
    "\tif t90==-1 and t0==-1:\n",
    "\t\tprint(\"error: need t90 or t0 value\")\n",
    "\t\treturn\n",
    "\n",
    "\tif t90!=-1 and t0!=-1:\n",
    "\t\tprint(\"error: Only one of the t90 and t0 arguments is allowed\")\n",
    "\t\treturn\n",
    "\n",
    "\tif ecc<0 :\n",
    "\t\tprint(\"error: eccentricity must be positive!\")\n",
    "\t\treturn\n",
    "\tif ecc>=1:\n",
    "\t\tprint(\"error: Orbit correction has only been implemented for circular and elliptic orbits\")\n",
    "\t\treturn\n",
    "\tif ecc==0:\n",
    "\t\tomega_d=0 #circular orbit\n",
    "\tprint(t0)\n",
    "\tif t0 ==-1:\n",
    "\t\tt0 = t90+(omega_d-90.)/360. * porb\n",
    "\t\tprint(t0,\"Debugging time\")\n",
    "\t\t\n",
    "\tif maxiter <=0:\n",
    "\t\tmaxiter=20\n",
    "\n",
    "\tasini_d = asini/86400. #86400 seconds in a day, unit is light day\n",
    "\tt= time\n",
    "\n",
    "\t#Corrections for eccentricity 0<=ecc<1\n",
    "\tomega = omega_d * np.pi/180.0 # Radians conversion\n",
    "\tsinw = np.sin(omega)\n",
    "\tcosw = np.cos(omega)\n",
    "\tsq = ((1.-ecc)*(1.+ecc))**0.5\n",
    "\tcor =np.array([2.*limit]*len(t))\n",
    "\t\n",
    "\n",
    "\t#start with number of iterations = zero\n",
    "\tnumiter=0\n",
    "\t\t\t\n",
    "\tcontada=0\n",
    "\tprint('starting iterations (max 20)')\n",
    "\twhile((abs(np.amax(cor)) > limit) and (numiter < maxiter)):\n",
    "\t\ttper = (t-t0)/porb\n",
    "\t\tprint(tper)\n",
    "\t\t# Calculate the mean anomaly\n",
    "\t\tm = 2 * np.pi * (tper * (1. - 0.5 * pporb * tper))\n",
    "\t\tprint(m)\n",
    "\t\t# Normalize m to the range [0, 2π]\n",
    "\t\tm = m % (2 * np.pi)\n",
    "\n",
    "\t\t# Shift m to the range [-π, π] if needed\n",
    "\t\tm[m > np.pi] -= 2 * np.pi\n",
    "\t\tprint(m)\n",
    "\t\tm=np.array(m)\n",
    "\n",
    "\t\tprint(\"Mean Anomaly:\" ,m)\n",
    "\t\t\n",
    "\t\teanom=np.array([1.0]*len(t))\n",
    "\t\teanom = KeplerEquation1(m,ecc)  #use this command for a better solution\n",
    "\t\t\n",
    "\t\tprint(\"Eccentric Anomaly:\", eanom)  # Debugging line\n",
    "\n",
    "\t\tsin_e = np.sin(eanom)\n",
    "\t\tcos_e = np.cos(eanom)\n",
    "\t\tprint(\"e: \",ecc,\"a_sin_i\",asini_d,\"omega \",omega)\n",
    "\t\tprint(\"sinE: \",sin_e)\n",
    "\t\tprint(\"cosE: \",cos_e)\n",
    "\t\tz = asini_d*(sinw*(cos_e-ecc)+sq*cosw*sin_e) ##Romer Delay Term\n",
    "\t\t#print(\"correction factor(z): \",z*86400)\n",
    "\t\tf = (t-time)+z  \n",
    "\t\tprint(\"term f: \",f)                             \n",
    "\t\tdf = (sq*cosw*cos_e - sinw*sin_e)*(2*np.pi*asini_d/(porb*(1.0-ecc*cos_e)))\n",
    "\t\tprint(\"term df:\",df)\n",
    "\t\tcor =f/(1.0+df)\n",
    "\t\tprint(\"Final Correction: \",cor)\n",
    "\t\tt = t-cor #### Altering it to add this time \n",
    "\t\tnumiter=numiter+1\n",
    "\t\tcontada=contada+1\n",
    "\t\tprint('iteration ' + str(contada)+' completed (max 20)')\n",
    "\t\tif numiter >= maxiter:\n",
    "\t\t\tprint(\"Exceeded maxiter iterations and did not reach convergence\");\n",
    "\t\t\tbreak\n",
    "\treturn(t)\n"
   ]
  },
  {
   "cell_type": "code",
   "execution_count": 21,
   "metadata": {},
   "outputs": [],
   "source": [
    "def KeplerEquation1(m,ecc):\n",
    "\tm=np.array(m)\n",
    "\tif ecc<0 :\n",
    "\t\tprint(\"error: eccentricity must be positive!\")\n",
    "\t\treturn\n",
    "\tif ecc>=1:\n",
    "\t\tprint(\"error: Orbit correction has only been implemented for circular and elliptic orbits\")\n",
    "\t\n",
    "\t#print(\"Mean anomaly input to kepler:\", m)\n",
    "\tfor j in range(0,len(m)):\n",
    "\t\tmod_m=m[j]/2/np.pi\n",
    "\t\tm[j]=m[j]-2*np.pi*round(mod_m)\n",
    "\t\t\n",
    "\t\twhile m[j]>np.pi:\n",
    "\t\t\tm[j]=m[j]-2*np.pi\n",
    "\t\twhile m[j]<-np.pi:\n",
    "\t\t\tm[j]=m[j]+2*np.pi\n",
    "\tif ecc==0:\n",
    "\t\tE=m\n",
    "\t\t\n",
    "\taux=4.0*ecc+0.5\n",
    "\talpha=(1.0-ecc)/aux\n",
    "\t\n",
    "\tBeta=m/(2.0*aux)\n",
    "\taux=np.sqrt(Beta**2+alpha**3)\n",
    "\t\n",
    "\tz=Beta+aux\n",
    "\ttest=np.array([1.0]*len(z))\n",
    "\tfor j in range(0,len(m)):\n",
    "\t\tif z[j]<=0.0:\n",
    "\t\t\tz[j]=Beta[j]-aux[j]\n",
    "\t\t\t\n",
    "\t\ttest[j]=abs(z[j])**(1/3)\n",
    "\tz=test\n",
    "\tfor j in range(0,len(m)):\n",
    "\t\tif z[j]<0.0:\n",
    "\t\t\tz[j]=-z[j]\n",
    "\ts0=z-alpha/z\n",
    "\t\n",
    "\ts1=s0-(0.078*s0**5)/(1.0+ecc)\n",
    "\te0=m+ecc*(3.0*s1-4.0*s1**3)\t\n",
    "\t\n",
    "\tse0=np.sin(e0)\n",
    "\tce0=np.cos(e0)\n",
    "\t\n",
    "\t##Newton Raphson method\n",
    "\tf  = e0-ecc*se0-m\n",
    "\tf1 = 1.0-ecc*ce0\n",
    "\tf2 = ecc*se0\n",
    "\tf3 = ecc*ce0\n",
    "\tf4 = -f2\n",
    "\tu1 = -f/f1\n",
    "\tu2 = -f/(f1+0.50*f2*u1)\n",
    "\tu3 = -f/(f1+0.50*f2*u2+.16666666666667*f3*u2*u2)\n",
    "\tu4 = -f/(f1+0.50*f2*u3+.16666666666667*f3*u3*u3+.041666666666667*f4*u3**3)\n",
    "\t\n",
    "\teccanom=e0+u4\n",
    "\t\n",
    "\tfor j in range(0,len(m)):\n",
    "\t\twhile eccanom[j]>=2.0*np.pi:\n",
    "\t\t\teccanom[j]=eccanom[j]-2.0*np.pi\n",
    "\t\twhile eccanom[j]<2.0*np.pi:\n",
    "\t\t\teccanom[j]=eccanom[j]+2.0*np.pi\n",
    "\t##better solution\n",
    "\t#print(\"ecc anomaly before iteration inside kepler equation :\", eccanom)\n",
    "\n",
    "\tCONT=True\n",
    "\tthresh=10**-3\n",
    "\tfor j in range(0,len(m)):\n",
    "\t\tif m[j]<0:\n",
    "\t\t\tm[j]=m[j]+2.0*np.pi\n",
    "\tdiff=eccanom-np.sin(eccanom)-m\n",
    "\tfor j in range(0,len(m)):\n",
    "\t\tif abs(diff[j])>10**-10:\n",
    "\t\t\tI=diff[j]\n",
    "\t\t\twhile CONT==True:\n",
    "\t\t\t\tfe=eccanom[j]-ecc*np.sin(eccanom[j])-m[j]\n",
    "\t\t\t\tfs=1.0-ecc*np.cos(eccanom[j])\n",
    "\t\t\t\toldval=eccanom[j]\n",
    "\t\t\t\teccanom[j]=oldval-fe/fs\n",
    "\t\t\t\tif abs(oldval-eccanom[j])<thresh :CONT=False\n",
    "\t\t\twhile eccanom[j]>= np.pi:eccanom[j]=eccanom[j]-2.0*np.pi\n",
    "\t\t\twhile eccanom[j]< np.pi:eccanom[j]=eccanom[j]+2.0*np.pi\n",
    "\n",
    "\t# Iterate until convergence for each m value\n",
    "\tthresh = 1e-6  # Convergence threshold\n",
    "\tfor j in range(len(m)):\n",
    "        # Iterative correction (Newton-Raphson method)\n",
    "\t\tmax_iter = 40  # Maximum number of iterations for each eccentric anomaly\n",
    "\t\titer_count = 0\n",
    "\t\t\n",
    "\t\twhile iter_count < max_iter:\n",
    "            # Calculate the difference (Kepler's equation)\n",
    "\t\t\tfe = eccanom[j] - ecc * np.sin(eccanom[j]) - m[j]\n",
    "\t\t\tfs = 1.0 - ecc * np.cos(eccanom[j])\n",
    "\n",
    "\t\t\t# If fs is too small, break out to avoid division by zero\n",
    "\t\t\tif abs(fs) < 1e-10:\n",
    "\t\t\t\tbreak\n",
    "\n",
    "\t\t\t# Update the Eccentric Anomaly using Newton-Raphson\n",
    "\t\t\tnew_eccanom = eccanom[j] - fe / fs\n",
    "\n",
    "\t\t\t# Check for convergence\n",
    "\t\t\tif abs(new_eccanom - eccanom[j]) < thresh:\n",
    "\t\t\t\teccanom[j] = new_eccanom\n",
    "\t\t\t\tbreak\n",
    "\t\t\teccanom[j] = new_eccanom\n",
    "\t\t\titer_count += 1\n",
    "\n",
    "        # If maximum iterations are exceeded, print a warning\n",
    "\t\tif iter_count >= max_iter:\n",
    "\t\t\tprint(f\"Warning: Did not converge for m[{j}] after {max_iter} iterations.\")\n",
    "\n",
    "\t\t# Ensure the final value is within [-pi, pi]\n",
    "\t\twhile eccanom[j] >= np.pi:\n",
    "\t\t\teccanom[j] -= 2 * np.pi\n",
    "\t\twhile eccanom[j] < -np.pi:\n",
    "\t\t\teccanom[j] += 2 * np.pi\n",
    "\treturn eccanom\n"
   ]
  },
  {
   "cell_type": "code",
   "execution_count": 22,
   "metadata": {},
   "outputs": [],
   "source": [
    "## Function to find event files/lc files from the directory \n",
    "def find_event_files(base_directory):\n",
    "    event_files = []\n",
    "    \n",
    "    # Regular expression to match the pattern ObsID/xti/event_cl/\n",
    "    obsid_pattern = re.compile(r'^\\d{10}$')\n",
    "    #obsid_pattern = re.compile(r'^\\d{10}/xti/event_cl/$')\n",
    "    #For one file\n",
    "    #obsid_pattern = re.compile(r'6050390244/xti/event_cl/$')\n",
    "    \n",
    "    # Regular expressions to match the specific filename patterns\n",
    "    file_pattern = re.compile(r'^ni\\d{10}_0mpu7_cl_(night|daynotconsidered)_barycorr.evt$')\n",
    "    #file_pattern = re.compile(r'^ni\\d{10}_cl_(night|day)mpu7_sr_night_barycorr.lc$')\n",
    "\n",
    "\n",
    "    for obsid_dir in os.listdir(base_directory):\n",
    "        obsid_path = os.path.join(base_directory, obsid_dir)\n",
    "\n",
    "        # Check if it's a directory and matches the 10-digit ObsID pattern\n",
    "        if os.path.isdir(obsid_path) and obsid_pattern.match(obsid_dir):\n",
    "            #print(f\"Found 10-digit ObsID folder: {obsid_dir}\")\n",
    "\n",
    "            # Look for files in this directory matching the .evt pattern\n",
    "            for file in os.listdir(obsid_path):\n",
    "                if file_pattern.match(file):\n",
    "                    full_path = os.path.join(obsid_path, file)\n",
    "                    event_files.append(full_path)\n",
    "                    # print(f\"Found .evt file: {full_path}\")\n",
    "\n",
    "    return event_files"
   ]
  },
  {
   "cell_type": "code",
   "execution_count": 23,
   "metadata": {},
   "outputs": [],
   "source": [
    "# Method to write corrected FITS file\n",
    "def write_corrected_fits(original_fits, corrected_timestamps):\n",
    "    base_name = os.path.basename(original_fits)\n",
    "    original_dir = os.path.dirname(original_fits)\n",
    "    \n",
    "    # Construct the new filename\n",
    "    new_file = os.path.join(original_dir, base_name.replace('.evt', '_orbit_piexpiextrial.evt'))\n",
    "    #new_file = os.path.join(original_dir, base_name.replace('.lc', '_orbit_piexpiex.lc'))\n",
    "\n",
    "    try:\n",
    "        # Read the original FITS file and modify the 'TIME' column\n",
    "        with fits.open(original_fits, mode='readonly') as hdul:\n",
    "            # Extract necessary values from the header\n",
    "            MJDREFI = hdul[1].header['MJDREFI']\n",
    "            MJDREFF = hdul[1].header['MJDREFF']\n",
    "            TIMEZERO = hdul[1].header['TIMEZERO']\n",
    "\n",
    "            # Combine MJDREFI and MJDREFF to get the full MJDREF\n",
    "            MJDREF = MJDREFI + MJDREFF\n",
    "\n",
    "            # Convert the MJD timestamps to MET using the formula\n",
    "            corrected_met = (corrected_timestamps - MJDREF) * 86400 - TIMEZERO\n",
    "\n",
    "            hdul[1].data['TIME'] = corrected_met\n",
    "            hdul.writeto(new_file, overwrite=True)\n",
    "        \n",
    "        print(f\"Corrected FITS file saved as {new_file}\")\n",
    "    \n",
    "    except Exception as e:\n",
    "        print(f\"Error saving corrected FITS file: {str(e)}\")"
   ]
  },
  {
   "cell_type": "code",
   "execution_count": 26,
   "metadata": {},
   "outputs": [],
   "source": [
    "# Main function to process event files and save corrected fits files\n",
    "\n",
    "def process_event_files(base_directory, asini, porb, ecc, omega_d, t0, t90):\n",
    "    event_files = find_event_files(base_directory)\n",
    "    \n",
    "    all_input_times = []\n",
    "    all_corrected_times = []\n",
    "\n",
    "    for event_file in event_files:\n",
    "        with fits.open(event_file) as evt:\n",
    "            # Extract input times\n",
    "            met = evt[1].data['BARYTIME'] ##Use this when evt while with Barytime=Yes is used. \n",
    "            #met = evt[1].data['TIME'] ## Use this on barycorr lc or evt files where Barytime=No\n",
    "            # Check if BARYTIME is empty, skip if so\n",
    "            if len(met) == 0:\n",
    "                print(f\"Skipping file {event_file}: No time values found.\")\n",
    "                continue\n",
    "        \n",
    "            #print(met)\n",
    "            times = ((met+evt[1].header['TIMEZERO']) / 86400) + evt[1].header['MJDREFI'] + evt[1].header['MJDREFF']\n",
    "            all_input_times.append(times)\n",
    "            #print(times)\n",
    "            # Correct the times using your Binary_orbit function\n",
    "            corrected_times = Binary_orbit(times, asini, porb, ecc, omega_d, t0=t0,t90=t90)\n",
    "            all_corrected_times.append(corrected_times)\n",
    "\n",
    "            print(\"Romer Delay: \",(times-corrected_times))\n",
    "            # Save the corrected FITS file\n",
    "            write_corrected_fits(event_file, corrected_times)\n",
    "            break\n",
    "    return all_input_times, all_corrected_times"
   ]
  },
  {
   "cell_type": "code",
   "execution_count": 27,
   "metadata": {},
   "outputs": [
    {
     "name": "stdout",
     "output_type": "stream",
     "text": [
      "-1\n",
      "58103.476861347226 Debugging time\n",
      "starting iterations (max 20)\n",
      "[74.76617255 74.76617255 74.76617255 ... 74.79443367 74.79443367\n",
      " 74.79443367]\n",
      "[469.76971685 469.76971685 469.76971686 ... 469.94728669 469.9472867\n",
      " 469.9472867 ]\n",
      "[-1.46918119 -1.46918118 -1.46918118 ... -1.29161134 -1.29161134\n",
      " -1.29161134]\n",
      "Mean Anomaly: [-1.46918119 -1.46918118 -1.46918118 ... -1.29161134 -1.29161134\n",
      " -1.29161134]\n",
      "Eccentric Anomaly: [-1.57208111 -1.5720811  -1.5720811  ... -1.39288716 -1.39288715\n",
      " -1.39288715]\n",
      "e:  0.1029 a_sin_i 0.001337164351851852 omega  -1.292416311101801\n",
      "sinE:  [-0.99999917 -0.99999917 -0.99999917 ... -0.98421586 -0.98421586\n",
      " -0.98421586]\n",
      "cosE:  [-0.00128478 -0.00128477 -0.00128477 ...  0.17697213  0.17697214\n",
      "  0.17697214]\n",
      "term f:  [-0.00023155 -0.00023155 -0.00023155 ... -0.00045496 -0.00045496\n",
      " -0.00045496]\n",
      "term df: [-0.00029176 -0.00029176 -0.00029176 ... -0.00027747 -0.00027747\n",
      " -0.00027747]\n",
      "Final Correction:  [-0.00023162 -0.00023162 -0.00023162 ... -0.00045509 -0.00045509\n",
      " -0.00045509]\n",
      "iteration 1 completed (max 20)\n",
      "[74.76618091 74.76618092 74.76618092 ... 74.7944501  74.7944501\n",
      " 74.7944501 ]\n",
      "[469.7697694  469.7697694  469.7697694  ... 469.94738994 469.94738995\n",
      " 469.94738995]\n",
      "[-1.46912864 -1.46912864 -1.46912863 ... -1.29150809 -1.29150809\n",
      " -1.29150809]\n",
      "Mean Anomaly: [-1.46912864 -1.46912864 -1.46912863 ... -1.29150809 -1.29150809\n",
      " -1.29150809]\n",
      "Eccentric Anomaly: [-1.57202856 -1.57202856 -1.57202856 ... -1.39278199 -1.39278199\n",
      " -1.39278198]\n",
      "e:  0.1029 a_sin_i 0.001337164351851852 omega  -1.292416311101801\n",
      "sinE:  [-0.99999924 -0.99999924 -0.99999924 ... -0.98419725 -0.98419724\n",
      " -0.98419724]\n",
      "cosE:  [-0.00123224 -0.00123223 -0.00123223 ...  0.17707564  0.17707564\n",
      "  0.17707565]\n",
      "term f:  [ 1.23696515e-12 -4.58014919e-13 -1.61071403e-12 ...  2.51557922e-12\n",
      "  5.65105162e-12  6.56706406e-13]\n",
      "term df: [-0.00029176 -0.00029176 -0.00029176 ... -0.00027745 -0.00027745\n",
      " -0.00027745]\n",
      "Final Correction:  [ 1.23732615e-12 -4.58148587e-13 -1.61118410e-12 ...  2.51627737e-12\n",
      "  5.65261996e-12  6.56888662e-13]\n",
      "iteration 2 completed (max 20)\n",
      "Romer Delay:  [-0.00023162 -0.00023162 -0.00023162 ... -0.00045509 -0.00045509\n",
      " -0.00045509]\n",
      "Corrected FITS file saved as ./reduced_output/6050390261/ni6050390261_0mpu7_cl_night_barycorr_orbit_piexpiextrial.evt\n"
     ]
    }
   ],
   "source": [
    "############\n",
    "# Input parameters taken from: \n",
    "# https://gammaray.nsstc.nasa.gov/gbm/science/pulsars/lightcurves/swiftj0243.html\n",
    "############\n",
    "\n",
    "base_directory = \"./reduced_output\" #Change the data accordingly\\\n",
    "asini = 115.531  # in light-seconds\n",
    "porb = 27.6943  # in days\n",
    "ecc = 0.1029\n",
    "omega_d = -74.05\n",
    "t0=-1\n",
    "t90 = 58116.097  # Modified Julian Date\n",
    "\n",
    "# Run the processing\n",
    "input_times, corrected_times=process_event_files(base_directory, asini, porb, ecc, omega_d,t0=t0, t90=t90)"
   ]
  },
  {
   "cell_type": "code",
   "execution_count": 28,
   "metadata": {},
   "outputs": [],
   "source": [
    "input_times_flat = np.concatenate(input_times)\n",
    "corrected_times_flat = np.concatenate(corrected_times)"
   ]
  },
  {
   "cell_type": "code",
   "execution_count": 9,
   "metadata": {},
   "outputs": [
    {
     "name": "stdout",
     "output_type": "stream",
     "text": [
      "Times saved successfully\n"
     ]
    }
   ],
   "source": [
    "np.savez(\"lc_corrected_time_piexpiex.npz\", input_times=input_times_flat, corrected_times=corrected_times_flat)\n",
    "print(f\"Times saved successfully\")"
   ]
  },
  {
   "cell_type": "code",
   "execution_count": 10,
   "metadata": {},
   "outputs": [],
   "source": [
    "delays=(input_times_flat-corrected_times_flat)*86400."
   ]
  },
  {
   "cell_type": "code",
   "execution_count": 11,
   "metadata": {},
   "outputs": [
    {
     "data": {
      "text/plain": [
       "array([-20.01183322, -20.01183385, -20.01183385, ..., -39.31984117,\n",
       "       -39.31984117, -39.3198418 ])"
      ]
     },
     "execution_count": 11,
     "metadata": {},
     "output_type": "execute_result"
    }
   ],
   "source": [
    "delays"
   ]
  },
  {
   "cell_type": "markdown",
   "metadata": {},
   "source": [
    "## Plotting all the delays"
   ]
  },
  {
   "cell_type": "code",
   "execution_count": 12,
   "metadata": {},
   "outputs": [],
   "source": [
    "import numpy as np\n",
    "import matplotlib.pyplot as plt\n",
    "data=np.load(\"evt_corrected_time_piexpiex.npz\")"
   ]
  },
  {
   "cell_type": "code",
   "execution_count": 13,
   "metadata": {},
   "outputs": [],
   "source": [
    "input=np.sort(data['input_times'])\n",
    "corrected=np.sort(data['corrected_times'])"
   ]
  },
  {
   "cell_type": "code",
   "execution_count": 14,
   "metadata": {},
   "outputs": [
    {
     "data": {
      "text/plain": [
       "array([60045.60321999, 60045.60322032, 60045.60322036, ...,\n",
       "       60203.71351316, 60203.71351321, 60203.71351334])"
      ]
     },
     "execution_count": 14,
     "metadata": {},
     "output_type": "execute_result"
    }
   ],
   "source": [
    "input"
   ]
  },
  {
   "cell_type": "code",
   "execution_count": 15,
   "metadata": {},
   "outputs": [],
   "source": [
    "delay= (corrected-input)*86400"
   ]
  },
  {
   "cell_type": "code",
   "execution_count": 16,
   "metadata": {},
   "outputs": [
    {
     "data": {
      "text/plain": [
       "<matplotlib.collections.PathCollection at 0x7f88d3e63a50>"
      ]
     },
     "execution_count": 16,
     "metadata": {},
     "output_type": "execute_result"
    },
    {
     "data": {
      "image/png": "[encoded data removed]",
      "text/plain": [
       "<Figure size 640x480 with 1 Axes>"
      ]
     },
     "metadata": {},
     "output_type": "display_data"
    }
   ],
   "source": [
    "plt.scatter(input[::200],(delay)[::200])"
   ]
  },
  {
   "cell_type": "code",
   "execution_count": 17,
   "metadata": {},
   "outputs": [],
   "source": [
    "# # Orbital parameters provided TEST\n",
    "# a_sin_i = 115.531  # Semi-major axis in light-seconds\n",
    "# P_orb = 27.6943  # Orbital period in days\n",
    "# e = 0.1029  # Eccentricity\n",
    "# omega = -74.05  # Longitude of periastron in degree\n",
    "# T_pi2 = 58116.097  # T_pi/2 in seconds \n",
    "\n",
    "# evt=fits.open('./reduced_output/6050390248/ni6050390248_0mpu7_cl_night_barycorr_orbit.evt')\n",
    "# met=evt[1].data['BARYTIME']\n",
    "# times=(met/86400)+evt[1].header['MJDREFI'] +evt[1].header['MJDREFF']\n",
    "# print(times)\n",
    "#TIME=Binary_orbit(time=times,asini=a_sin_i,ecc=e,porb=P_orb,omega_d=omega,t90=T_pi2)"
   ]
  }
 ],
 "metadata": {
  "kernelspec": {
   "display_name": "heasoftenv",
   "language": "python",
   "name": "python3"
  },
  "language_info": {
   "codemirror_mode": {
    "name": "ipython",
    "version": 3
   },
   "file_extension": ".py",
   "mimetype": "text/x-python",
   "name": "python",
   "nbconvert_exporter": "python",
   "pygments_lexer": "ipython3",
   "version": "3.11.9"
  }
 },
 "nbformat": 4,
 "nbformat_minor": 2
}
