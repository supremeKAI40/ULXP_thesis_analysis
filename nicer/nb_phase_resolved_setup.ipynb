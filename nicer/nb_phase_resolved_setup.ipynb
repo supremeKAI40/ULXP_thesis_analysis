{
 "cells": [
  {
   "cell_type": "code",
   "execution_count": 1,
   "metadata": {},
   "outputs": [],
   "source": [
    "from astropy.io import fits\n",
    "import matplotlib.pyplot as plt\n",
    "import numpy as np\n",
    "import os\n",
    "import re\n",
    "import subprocess"
   ]
  },
  {
   "cell_type": "code",
   "execution_count": null,
   "metadata": {},
   "outputs": [],
   "source": [
    "## Function to find event files/lc files from the directory \n",
    "def find_event_files(base_directory):\n",
    "    event_files = []\n",
    "    \n",
    "    # Regular expression to match the pattern ObsID/xti/event_cl/\n",
    "    obsid_pattern = re.compile(r'^\\d{10}$')\n",
    "    \n",
    "    # Regular expressions to match the specific filename patterns\n",
    "    file_pattern = re.compile(r'^ni\\d{10}_0mpu7_cl_(night|daynotconsidered)_barycorr_orbit_piexpiex_yes.evt$')\n",
    "\n",
    "    for obsid_dir in os.listdir(base_directory):\n",
    "        obsid_path = os.path.join(base_directory, obsid_dir)\n",
    "\n",
    "        # Check if it's a directory and matches the 10-digit ObsID pattern\n",
    "        if os.path.isdir(obsid_path) and obsid_pattern.match(obsid_dir):\n",
    "            #print(f\"Found 10-digit ObsID folder: {obsid_dir}\")\n",
    "\n",
    "            # Look for files in this directory matching the .evt pattern\n",
    "            for file in os.listdir(obsid_path):\n",
    "                if file_pattern.match(file):\n",
    "                    full_path = os.path.join(obsid_path, file)\n",
    "                    event_files.append(full_path)\n",
    "                    # print(f\"Found .evt file: {full_path}\")\n",
    "\n",
    "    return event_files"
   ]
  },
  {
   "cell_type": "code",
   "execution_count": null,
   "metadata": {},
   "outputs": [],
   "source": [
    "## Write a code to extract the spin period from the txt file using Obs ID as primary key\n",
    "\n",
    "## Convert spin period to frequency for phase formula. "
   ]
  },
  {
   "cell_type": "code",
   "execution_count": 85,
   "metadata": {},
   "outputs": [
    {
     "name": "stdout",
     "output_type": "stream",
     "text": [
      "Total number of input event files found:  67\n",
      "*******Adding Orbit Time from common reference******\n",
      "Working on the file:  ./reduced_output/6050390261/ni6050390261_0mpu7_cl_night_barycorr_orbit_piexpiex_yes.evt\n",
      "6050390261\n",
      "Successfully saved as:  ./reduced_output/6050390261/ni6050390261_0mpu7_cl_night_barycorr_orbit_piexpiex_yes_phase_added.evt\n",
      "*******Adding Phase column in same file******\n",
      "Successfully saved as:  ./reduced_output/6050390261/ni6050390261_0mpu7_cl_night_barycorr_orbit_piexpiex_yes_phase_added.evt\n"
     ]
    }
   ],
   "source": [
    "base_directory='./reduced_output'\n",
    "\n",
    "test_input=\"/home/supremekai/thesis/J0243_6p6124/nicer/reduced_output/6050390231/ni6050390231_0mpu7_cl_night_barycorr_orbit_piexpiex_yes.evt\"\n",
    "test_output=\"/home/supremekai/thesis/J0243_6p6124/nicer/reduced_output/6050390231/ni6050390231_0mpu7_cl_night_barycorr_orbit_piexpiex_yes_trial_phase_resolved_test.evt\"\n",
    "\n",
    "#Running the code to find event files\n",
    "first_input_orbit_file_list=find_event_files(base_directory)\n",
    "print(\"Total number of input event files found: \",len(first_input_orbit_file_list))\n",
    "for first_input_file in first_input_orbit_file_list:\n",
    "    print(\"*******Adding Orbit Time from common reference******\")\n",
    "    print(\"Working on the file: \",first_input_file)\n",
    "    print(first_input_file.split(\"/\")[2])\n",
    "    first_output_file = first_input_file.replace(\".evt\", \"_phase_added.evt\")\n",
    "    first_ftcalc_command=f'ftcalc infile={first_input_file+\"[events]\"} outfile={first_output_file} column=ORBIT_REF_TIME expression=\"(ORBITTIME-(303782402.000))\" clobber=yes'\n",
    "    try:\n",
    "        subprocess.run(first_ftcalc_command,shell=True, check=True)\n",
    "        print(\"Successfully saved as: \",first_output_file)\n",
    "    except subprocess.CalledProcessError as e:\n",
    "        print(f\"Error processing {first_input_file}: {e}\")\n",
    "    \n",
    "\n",
    "    print(\"*******Adding Phase column in same file******\")\n",
    "    second_input_file=first_output_file\n",
    "    second_output_file=first_output_file\n",
    "    second_ftcalc_command=f'ftcalc infile={second_input_file+\"[events]\"} outfile={second_output_file} column=PHASE expression=\"(0.1021189686*(ORBIT_REF_TIME))%1\" clobber=YES'                 \n",
    "    \n",
    "    try:\n",
    "        subprocess.run(second_ftcalc_command,shell=True, check=True)\n",
    "        print(\"Successfully saved as: \",second_output_file)\n",
    "    except subprocess.CalledProcessError as e:\n",
    "        print(f\"Error processing {first_input_file}: {e}\")\n",
    "    break\n",
    "\n"
   ]
  },
  {
   "cell_type": "code",
   "execution_count": 86,
   "metadata": {},
   "outputs": [
    {
     "name": "stdout",
     "output_type": "stream",
     "text": [
      "Filename: ./reduced_output/6050390261/ni6050390261_0mpu7_cl_night_barycorr_orbit_piexpiex_yes_phase_added.evt\n",
      "No.    Name      Ver    Type      Cards   Dimensions   Format\n",
      "  0  PRIMARY       1 PrimaryHDU      32   ()      \n",
      "  1  EVENTS        1 BinTableHDU    443   1013196R x 18C   [1D, 1B, 1B, 1I, 1I, 1B, 1B, 8X, 1K, I, J, 1I, 1I, 1E, 1D, 1D, 1D, 1D]   \n",
      "  2  FPM_SEL       1 BinTableHDU    128   2387R x 3C   [1D, 56B, 56I]   \n",
      "  3  GTI           1 BinTableHDU    258   3R x 2C   [D, D]   \n",
      "  4  GTI_MPU0      1 BinTableHDU    257   3R x 2C   [D, D]   \n",
      "  5  GTI_MPU1      1 BinTableHDU    257   3R x 2C   [D, D]   \n",
      "  6  GTI_MPU2      1 BinTableHDU    257   3R x 2C   [D, D]   \n",
      "  7  GTI_MPU3      1 BinTableHDU    257   3R x 2C   [D, D]   \n",
      "  8  GTI_MPU4      1 BinTableHDU    257   3R x 2C   [D, D]   \n",
      "  9  GTI_MPU5      1 BinTableHDU    257   3R x 2C   [D, D]   \n",
      " 10  GTI_MPU6      1 BinTableHDU    257   3R x 2C   [D, D]   \n"
     ]
    }
   ],
   "source": [
    "hdul=fits.open('./reduced_output/6050390261/ni6050390261_0mpu7_cl_night_barycorr_orbit_piexpiex_yes_phase_added.evt')\n",
    "\n",
    "hdul.info()"
   ]
  },
  {
   "cell_type": "code",
   "execution_count": 87,
   "metadata": {},
   "outputs": [],
   "source": [
    "events=hdul[1]"
   ]
  },
  {
   "cell_type": "code",
   "execution_count": 88,
   "metadata": {},
   "outputs": [
    {
     "data": {
      "text/plain": [
       "ColDefs(\n",
       "    name = 'TIME'; format = '1D'; unit = 's'; disp = 'F20.9'\n",
       "    name = 'RAWX'; format = '1B'; unit = 'pixel'; coord_type = 'RAWX'; coord_ref_point = 0; coord_ref_value = 0.0; coord_inc = 1.0\n",
       "    name = 'RAWY'; format = '1B'; unit = 'pixel'; coord_type = 'RAWY'; coord_ref_point = 0; coord_ref_value = 0.0; coord_inc = 1.0\n",
       "    name = 'PHA'; format = '1I'; unit = 'chan'; null = -32768\n",
       "    name = 'PHA_FAST'; format = '1I'; unit = 'chan'; null = -32768\n",
       "    name = 'DET_ID'; format = '1B'; disp = 'I2.2'\n",
       "    name = 'DEADTIME'; format = '1B'; unit = 's'; bscale = 6.202e-07; bzero = 3.101e-07; disp = 'F11.9'\n",
       "    name = 'EVENT_FLAGS'; format = '8X'\n",
       "    name = 'TICK'; format = '1K'\n",
       "    name = 'MPU_A_TEMP'; format = 'I'; unit = 'Celsius'; null = -1; bscale = 0.10600843; bzero = -273.42105; disp = 'F6.3'\n",
       "    name = 'MPU_UNDER_COUNT'; format = 'J'; null = -1\n",
       "    name = 'PI_FAST'; format = '1I'; unit = 'chan'; null = -32768\n",
       "    name = 'PI'; format = '1I'; unit = 'chan'; null = -32768\n",
       "    name = 'PI_RATIO'; format = '1E'\n",
       "    name = 'BARYTIME'; format = '1D'\n",
       "    name = 'ORBITTIME'; format = '1D'; unit = 'seconds'\n",
       "    name = 'ORBIT_REF_TIME'; format = '1D'\n",
       "    name = 'PHASE'; format = '1D'\n",
       ")"
      ]
     },
     "execution_count": 88,
     "metadata": {},
     "output_type": "execute_result"
    }
   ],
   "source": [
    "events.columns"
   ]
  },
  {
   "cell_type": "code",
   "execution_count": 89,
   "metadata": {},
   "outputs": [],
   "source": [
    "phase=events.data['PHASE']"
   ]
  },
  {
   "cell_type": "code",
   "execution_count": 90,
   "metadata": {},
   "outputs": [
    {
     "data": {
      "text/plain": [
       "1013196"
      ]
     },
     "execution_count": 90,
     "metadata": {},
     "output_type": "execute_result"
    }
   ],
   "source": [
    "phase.size"
   ]
  },
  {
   "cell_type": "code",
   "execution_count": 96,
   "metadata": {},
   "outputs": [
    {
     "data": {
      "image/png": "[encoded data removed]",
      "text/plain": [
       "<Figure size 640x480 with 1 Axes>"
      ]
     },
     "metadata": {},
     "output_type": "display_data"
    }
   ],
   "source": [
    "listed=plt.hist(phase,bins=64,histtype='step')\n",
    "# plt.ylim(13000)"
   ]
  },
  {
   "cell_type": "code",
   "execution_count": 97,
   "metadata": {},
   "outputs": [
    {
     "data": {
      "text/plain": [
       "(65, 64)"
      ]
     },
     "execution_count": 97,
     "metadata": {},
     "output_type": "execute_result"
    }
   ],
   "source": [
    "len(listed[1]),len(listed[0])"
   ]
  },
  {
   "cell_type": "code",
   "execution_count": 98,
   "metadata": {},
   "outputs": [
    {
     "data": {
      "text/plain": [
       "array([2.96686267e-07, 1.56252799e-02, 3.12502632e-02, 4.68752464e-02,\n",
       "       6.25002296e-02, 7.81252129e-02, 9.37501961e-02, 1.09375179e-01,\n",
       "       1.25000163e-01, 1.40625146e-01, 1.56250129e-01, 1.71875112e-01,\n",
       "       1.87500096e-01, 2.03125079e-01, 2.18750062e-01, 2.34375045e-01,\n",
       "       2.50000028e-01, 2.65625012e-01, 2.81249995e-01, 2.96874978e-01,\n",
       "       3.12499961e-01, 3.28124945e-01, 3.43749928e-01, 3.59374911e-01,\n",
       "       3.74999894e-01, 3.90624878e-01, 4.06249861e-01, 4.21874844e-01,\n",
       "       4.37499827e-01, 4.53124811e-01, 4.68749794e-01, 4.84374777e-01,\n",
       "       4.99999760e-01, 5.15624744e-01, 5.31249727e-01, 5.46874710e-01,\n",
       "       5.62499693e-01, 5.78124676e-01, 5.93749660e-01, 6.09374643e-01,\n",
       "       6.24999626e-01, 6.40624609e-01, 6.56249593e-01, 6.71874576e-01,\n",
       "       6.87499559e-01, 7.03124542e-01, 7.18749526e-01, 7.34374509e-01,\n",
       "       7.49999492e-01, 7.65624475e-01, 7.81249459e-01, 7.96874442e-01,\n",
       "       8.12499425e-01, 8.28124408e-01, 8.43749392e-01, 8.59374375e-01,\n",
       "       8.74999358e-01, 8.90624341e-01, 9.06249324e-01, 9.21874308e-01,\n",
       "       9.37499291e-01, 9.53124274e-01, 9.68749257e-01, 9.84374241e-01,\n",
       "       9.99999224e-01])"
      ]
     },
     "execution_count": 98,
     "metadata": {},
     "output_type": "execute_result"
    }
   ],
   "source": [
    "listed[1]"
   ]
  },
  {
   "cell_type": "code",
   "execution_count": 99,
   "metadata": {},
   "outputs": [
    {
     "data": {
      "text/plain": [
       "array([14662., 13942., 14748., 15205., 16103., 15376., 14327., 13746.,\n",
       "       13785., 14364., 14252., 14462., 14803., 15112., 15470., 15951.,\n",
       "       16246., 16524., 16429., 16092., 15302., 14042., 13270., 12557.,\n",
       "       12082., 11900., 12141., 12303., 12007., 11980., 11981., 12960.,\n",
       "       14221., 15404., 16174., 17347., 18305., 18179., 18342., 18317.,\n",
       "       17885., 18034., 17739., 17844., 18544., 18495., 18563., 18559.,\n",
       "       18365., 17852., 17382., 17235., 17163., 17467., 17463., 17398.,\n",
       "       17654., 17762., 17712., 17971., 17555., 17003., 15969., 15169.])"
      ]
     },
     "execution_count": 99,
     "metadata": {},
     "output_type": "execute_result"
    }
   ],
   "source": [
    "listed[0]"
   ]
  },
  {
   "cell_type": "code",
   "execution_count": 102,
   "metadata": {},
   "outputs": [
    {
     "data": {
      "image/png": "[encoded data removed]",
      "text/plain": [
       "<Figure size 640x480 with 1 Axes>"
      ]
     },
     "metadata": {},
     "output_type": "display_data"
    }
   ],
   "source": [
    "### Plot the profile as a line plot\n",
    "plt.plot(listed[1][1:],listed[0],'-o')\n",
    "plt.title(\"Plot of histogram of PHASE column as per NICER analysis thread\")\n",
    "plt.grid()"
   ]
  },
  {
   "cell_type": "code",
   "execution_count": 103,
   "metadata": {},
   "outputs": [
    {
     "name": "stdout",
     "output_type": "stream",
     "text": [
      "Filename: ./folded_curves/6050390261/phase_resolved_flux_with_errors.fits\n",
      "No.    Name      Ver    Type      Cards   Dimensions   Format\n",
      "  0  PRIMARY       1 PrimaryHDU       4   ()      \n",
      "  1                1 BinTableHDU     14   128R x 3C   [E, E, E]   \n"
     ]
    }
   ],
   "source": [
    "folded_fits=fits.open(\"./folded_curves/6050390261/phase_resolved_flux_with_errors.fits\")\n",
    "folded_fits.info()"
   ]
  },
  {
   "cell_type": "code",
   "execution_count": 104,
   "metadata": {},
   "outputs": [
    {
     "data": {
      "text/plain": [
       "FITS_rec([(0.0078125, 538.26306, 4.3859906),\n",
       "          (0.0234375, 541.4908 , 4.3893275),\n",
       "          (0.0390625, 540.78406, 4.386991 ),\n",
       "          (0.0546875, 550.97156, 4.44043  ),\n",
       "          (0.0703125, 548.2606 , 4.417436 ),\n",
       "          (0.0859375, 547.9472 , 4.4139085),\n",
       "          (0.1015625, 541.12103, 4.3900824),\n",
       "          (0.1171875, 533.9882 , 4.359559 ),\n",
       "          (0.1328125, 534.3699 , 4.3596253),\n",
       "          (0.1484375, 522.0649 , 4.3106127),\n",
       "          (0.1640625, 533.2097 , 4.357126 ),\n",
       "          (0.1796875, 531.0303 , 4.3467245),\n",
       "          (0.1953125, 535.68585, 4.3649907),\n",
       "          (0.2109375, 516.8663 , 4.2905655),\n",
       "          (0.2265625, 502.7027 , 4.229923 ),\n",
       "          (0.2421875, 488.07153, 4.165774 ),\n",
       "          (0.2578125, 477.01144, 4.121828 ),\n",
       "          (0.2734375, 474.90533, 4.111311 ),\n",
       "          (0.2890625, 471.37936, 4.094619 ),\n",
       "          (0.3046875, 479.85257, 4.13267  ),\n",
       "          (0.3203125, 479.0556 , 4.129943 ),\n",
       "          (0.3359375, 490.3015 , 4.191071 ),\n",
       "          (0.3515625, 483.9116 , 4.1479826),\n",
       "          (0.3671875, 471.9895 , 4.1000733),\n",
       "          (0.3828125, 478.49255, 4.119275 ),\n",
       "          (0.3984375, 485.72293, 4.145124 ),\n",
       "          (0.4140625, 508.563  , 4.2436275),\n",
       "          (0.4296875, 509.6572 , 4.2489142),\n",
       "          (0.4453125, 531.032  , 4.3357334),\n",
       "          (0.4609375, 529.82056, 4.3417706),\n",
       "          (0.4765625, 505.7183 , 4.244043 ),\n",
       "          (0.4921875, 491.9991 , 4.1839323),\n",
       "          (0.5078125, 489.35153, 4.171233 ),\n",
       "          (0.5234375, 478.77814, 4.1301613),\n",
       "          (0.5390625, 494.12503, 4.1936793),\n",
       "          (0.5546875, 489.60046, 4.1722937),\n",
       "          (0.5703125, 484.57422, 4.153663 ),\n",
       "          (0.5859375, 496.21683, 4.2032657),\n",
       "          (0.6015625, 507.69403, 4.249416 ),\n",
       "          (0.6171875, 518.50616, 4.295161 ),\n",
       "          (0.6328125, 544.0416 , 4.4019136),\n",
       "          (0.6484375, 561.5222 , 4.469778 ),\n",
       "          (0.6640625, 565.75336, 4.500465 ),\n",
       "          (0.6796875, 576.8605 , 4.531965 ),\n",
       "          (0.6953125, 573.97656, 4.5206223),\n",
       "          (0.7109375, 562.6818 , 4.4736257),\n",
       "          (0.7265625, 548.8558 , 4.4190774),\n",
       "          (0.7421875, 546.28546, 4.410982 ),\n",
       "          (0.7578125, 541.3326 , 4.397489 ),\n",
       "          (0.7734375, 536.8335 , 4.3801622),\n",
       "          (0.7890625, 540.24164, 4.3993387),\n",
       "          (0.8046875, 538.03143, 4.387309 ),\n",
       "          (0.8203125, 555.38196, 4.4551907),\n",
       "          (0.8359375, 538.8315 , 4.392081 ),\n",
       "          (0.8515625, 531.4169 , 4.3610067),\n",
       "          (0.8671875, 522.75336, 4.3230815),\n",
       "          (0.8828125, 518.7841 , 4.3081193),\n",
       "          (0.8984375, 520.28687, 4.3158393),\n",
       "          (0.9140625, 516.3687 , 4.2892423),\n",
       "          (0.9296875, 525.26276, 4.321577 ),\n",
       "          (0.9453125, 543.69354, 4.401259 ),\n",
       "          (0.9609375, 567.3736 , 4.493775 ),\n",
       "          (0.9765625, 563.6628 , 4.476758 ),\n",
       "          (0.9921875, 543.70667, 4.405843 ),\n",
       "          (1.0078125, 538.26306, 4.3859906),\n",
       "          (1.0234375, 541.4908 , 4.3893275),\n",
       "          (1.0390625, 540.78406, 4.386991 ),\n",
       "          (1.0546875, 550.97156, 4.44043  ),\n",
       "          (1.0703125, 548.2606 , 4.417436 ),\n",
       "          (1.0859375, 547.9472 , 4.4139085),\n",
       "          (1.1015625, 541.12103, 4.3900824),\n",
       "          (1.1171875, 533.9882 , 4.359559 ),\n",
       "          (1.1328125, 534.3699 , 4.3596253),\n",
       "          (1.1484375, 522.0649 , 4.3106127),\n",
       "          (1.1640625, 533.2097 , 4.357126 ),\n",
       "          (1.1796875, 531.0303 , 4.3467245),\n",
       "          (1.1953125, 535.68585, 4.3649907),\n",
       "          (1.2109375, 516.8663 , 4.2905655),\n",
       "          (1.2265625, 502.7027 , 4.229923 ),\n",
       "          (1.2421875, 488.07153, 4.165774 ),\n",
       "          (1.2578125, 477.01144, 4.121828 ),\n",
       "          (1.2734375, 474.90533, 4.111311 ),\n",
       "          (1.2890625, 471.37936, 4.094619 ),\n",
       "          (1.3046875, 479.85257, 4.13267  ),\n",
       "          (1.3203125, 479.0556 , 4.129943 ),\n",
       "          (1.3359375, 490.3015 , 4.191071 ),\n",
       "          (1.3515625, 483.9116 , 4.1479826),\n",
       "          (1.3671875, 471.9895 , 4.1000733),\n",
       "          (1.3828125, 478.49255, 4.119275 ),\n",
       "          (1.3984375, 485.72293, 4.145124 ),\n",
       "          (1.4140625, 508.563  , 4.2436275),\n",
       "          (1.4296875, 509.6572 , 4.2489142),\n",
       "          (1.4453125, 531.032  , 4.3357334),\n",
       "          (1.4609375, 529.82056, 4.3417706),\n",
       "          (1.4765625, 505.7183 , 4.244043 ),\n",
       "          (1.4921875, 491.9991 , 4.1839323),\n",
       "          (1.5078125, 489.35153, 4.171233 ),\n",
       "          (1.5234375, 478.77814, 4.1301613),\n",
       "          (1.5390625, 494.12503, 4.1936793),\n",
       "          (1.5546875, 489.60046, 4.1722937),\n",
       "          (1.5703125, 484.57422, 4.153663 ),\n",
       "          (1.5859375, 496.21683, 4.2032657),\n",
       "          (1.6015625, 507.69403, 4.249416 ),\n",
       "          (1.6171875, 518.50616, 4.295161 ),\n",
       "          (1.6328125, 544.0416 , 4.4019136),\n",
       "          (1.6484375, 561.5222 , 4.469778 ),\n",
       "          (1.6640625, 565.75336, 4.500465 ),\n",
       "          (1.6796875, 576.8605 , 4.531965 ),\n",
       "          (1.6953125, 573.97656, 4.5206223),\n",
       "          (1.7109375, 562.6818 , 4.4736257),\n",
       "          (1.7265625, 548.8558 , 4.4190774),\n",
       "          (1.7421875, 546.28546, 4.410982 ),\n",
       "          (1.7578125, 541.3326 , 4.397489 ),\n",
       "          (1.7734375, 536.8335 , 4.3801622),\n",
       "          (1.7890625, 540.24164, 4.3993387),\n",
       "          (1.8046875, 538.03143, 4.387309 ),\n",
       "          (1.8203125, 555.38196, 4.4551907),\n",
       "          (1.8359375, 538.8315 , 4.392081 ),\n",
       "          (1.8515625, 531.4169 , 4.3610067),\n",
       "          (1.8671875, 522.75336, 4.3230815),\n",
       "          (1.8828125, 518.7841 , 4.3081193),\n",
       "          (1.8984375, 520.28687, 4.3158393),\n",
       "          (1.9140625, 516.3687 , 4.2892423),\n",
       "          (1.9296875, 525.26276, 4.321577 ),\n",
       "          (1.9453125, 543.69354, 4.401259 ),\n",
       "          (1.9609375, 567.3736 , 4.493775 ),\n",
       "          (1.9765625, 563.6628 , 4.476758 ),\n",
       "          (1.9921875, 543.70667, 4.405843 )],\n",
       "         dtype=(numpy.record, [('PHASE', '>f4'), ('avg_flux', '>f4'), ('avg_flux_error', '>f4')]))"
      ]
     },
     "execution_count": 104,
     "metadata": {},
     "output_type": "execute_result"
    }
   ],
   "source": [
    "folded_fits[1].data"
   ]
  },
  {
   "cell_type": "code",
   "execution_count": null,
   "metadata": {},
   "outputs": [],
   "source": []
  }
 ],
 "metadata": {
  "kernelspec": {
   "display_name": "heasoftenv",
   "language": "python",
   "name": "python3"
  },
  "language_info": {
   "codemirror_mode": {
    "name": "ipython",
    "version": 3
   },
   "file_extension": ".py",
   "mimetype": "text/x-python",
   "name": "python",
   "nbconvert_exporter": "python",
   "pygments_lexer": "ipython3",
   "version": "3.11.9"
  }
 },
 "nbformat": 4,
 "nbformat_minor": 2
}
