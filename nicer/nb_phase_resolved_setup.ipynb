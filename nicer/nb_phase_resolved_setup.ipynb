{
 "cells": [
  {
   "cell_type": "code",
   "execution_count": 2,
   "metadata": {},
   "outputs": [],
   "source": [
    "from astropy.io import fits\n",
    "import matplotlib.pyplot as plt\n",
    "import numpy as np\n",
    "import os\n",
    "import re\n",
    "import subprocess\n",
    "import pandas as pd"
   ]
  },
  {
   "cell_type": "code",
   "execution_count": 3,
   "metadata": {},
   "outputs": [],
   "source": [
    "## Function to find event files/lc files from the directory \n",
    "def find_event_files(base_directory):\n",
    "    event_files = []\n",
    "    \n",
    "    # Regular expression to match the pattern ObsID/xti/event_cl/\n",
    "    obsid_pattern = re.compile(r'^\\d{10}$')\n",
    "    \n",
    "    # Regular expressions to match the specific filename patterns\n",
    "    file_pattern = re.compile(r'^ni\\d{10}_0mpu7_cl_(night|daynotconsidered)_barycorr_orbit_piexpiex_yes.evt$')\n",
    "\n",
    "    for obsid_dir in os.listdir(base_directory):\n",
    "        obsid_path = os.path.join(base_directory, obsid_dir)\n",
    "\n",
    "        # Check if it's a directory and matches the 10-digit ObsID pattern\n",
    "        if os.path.isdir(obsid_path) and obsid_pattern.match(obsid_dir):\n",
    "            #print(f\"Found 10-digit ObsID folder: {obsid_dir}\")\n",
    "\n",
    "            # Look for files in this directory matching the .evt pattern\n",
    "            for file in os.listdir(obsid_path):\n",
    "                if file_pattern.match(file):\n",
    "                    full_path = os.path.join(obsid_path, file)\n",
    "                    event_files.append(full_path)\n",
    "                    # print(f\"Found .evt file: {full_path}\")\n",
    "\n",
    "    return event_files"
   ]
  },
  {
   "cell_type": "code",
   "execution_count": 116,
   "metadata": {},
   "outputs": [
    {
     "name": "stdout",
     "output_type": "stream",
     "text": [
      "Total number of input event files found:  66\n",
      "*******Adding Orbit Time from common reference******\n",
      "Working on the file:  /home/supremekai/thesis/J0243_6p6124/nicer/reduced_output/6050390231/ni6050390231_0mpu7_cl_night_barycorr_orbit_piexpiex_yes.evt\n",
      "Successfully saved as:  /home/supremekai/thesis/J0243_6p6124/nicer/reduced_output/6050390231/ni6050390231_0mpu7_cl_night_barycorr_orbit_piexpiex_yes_phase_added.evt\n",
      "*******Adding Phase column in same file******\n",
      "Period is:  9.80052\n",
      "Successfully saved as:  /home/supremekai/thesis/J0243_6p6124/nicer/reduced_output/6050390231/ni6050390231_0mpu7_cl_night_barycorr_orbit_piexpiex_yes_phase_added.evt\n"
     ]
    }
   ],
   "source": [
    "base_directory='./reduced_output'\n",
    "input_period_file = 'all_lc_periods_evt_files_bary_orbit_piexpiex.txt'\n",
    "\n",
    "test_input=\"/home/supremekai/thesis/J0243_6p6124/nicer/reduced_output/6050390231/ni6050390231_0mpu7_cl_night_barycorr_orbit_piexpiex_yes.evt\"\n",
    "test_output=\"/home/supremekai/thesis/J0243_6p6124/nicer/reduced_output/6050390231/ni6050390231_0mpu7_cl_night_barycorr_orbit_piexpiex_yes_trial_phase_resolved_test.evt\"\n",
    "\n",
    "\n",
    "\n",
    "df = pd.read_csv(input_period_file, delimiter='\\t')\n",
    "# Filter out rows where period is \"-none-\"\n",
    "df = df[df['Period'] != \"-none-\"]\n",
    "\n",
    "# Convert the 'Period' column to float for valid entries\n",
    "df['Period'] = df['Period'].astype(float)\n",
    "df['LC_File_Path'] = df['LC_File_Path'].astype(str)\n",
    "\n",
    "#Running the code to find event files\n",
    "first_input_orbit_file_list=find_event_files(base_directory)\n",
    "print(\"Total number of input event files found: \",len(first_input_orbit_file_list))\n",
    "for first_input_file in first_input_orbit_file_list:\n",
    "    first_input_file=test_input\n",
    "\n",
    "    print(\"*******Adding Orbit Time from common reference******\")\n",
    "    print(\"Working on the file: \",first_input_file)\n",
    "\n",
    "    obsid=first_input_file.split(\"/\")[-2]\n",
    "    \n",
    "    first_output_file = first_input_file.replace(\".evt\", \"_phase_added.evt\")\n",
    "    ## for xx231= \t298771202.000 and freq=0.1020354022\n",
    "    ## for xx261= 303782402.200 added 0.2 sec and freq= 0.1021189686\n",
    "    first_ftcalc_command=f'ftcalc infile={first_input_file+\"[events]\"} outfile={first_output_file} column=ORBIT_REF_TIME expression=\"(ORBITTIME-(298425602.300))\" clobber=yes'\n",
    "    try:\n",
    "        subprocess.run(first_ftcalc_command,shell=True, check=True)\n",
    "        print(\"Successfully saved as: \",first_output_file)\n",
    "    except subprocess.CalledProcessError as e:\n",
    "        print(f\"Error processing {first_input_file}: {e}\")\n",
    "    \n",
    "\n",
    "    print(\"*******Adding Phase column in same file******\")\n",
    "    period=df['Period'][df['LC_File_Path']==obsid].values[0]\n",
    "    period=9.80052\n",
    "    freq=1/period\n",
    "    print(\"Period is: \",period)\n",
    "    second_input_file=first_output_file\n",
    "    second_output_file=first_output_file\n",
    "    second_ftcalc_command=f'ftcalc infile={second_input_file+\"[events]\"} outfile={second_output_file} column=PHASE expression=\"({freq}*(ORBIT_REF_TIME))%1\" clobber=YES'                 \n",
    "    \n",
    "    try:\n",
    "        subprocess.run(second_ftcalc_command,shell=True, check=True)\n",
    "        print(\"Successfully saved as: \",second_output_file)\n",
    "    except subprocess.CalledProcessError as e:\n",
    "        print(f\"Error processing {first_input_file}: {e}\")\n",
    "\n",
    "    break"
   ]
  },
  {
   "cell_type": "code",
   "execution_count": 117,
   "metadata": {},
   "outputs": [
    {
     "name": "stdout",
     "output_type": "stream",
     "text": [
      "Filename: ./reduced_output/6050390231/ni6050390231_0mpu7_cl_night_barycorr_orbit_piexpiex_yes_phase_added.evt\n",
      "No.    Name      Ver    Type      Cards   Dimensions   Format\n",
      "  0  PRIMARY       1 PrimaryHDU      32   ()      \n",
      "  1  EVENTS        1 BinTableHDU    443   1657510R x 18C   [1D, 1B, 1B, 1I, 1I, 1B, 1B, 8X, 1K, I, J, 1I, 1I, 1E, 1D, 1D, 1D, 1D]   \n",
      "  2  FPM_SEL       1 BinTableHDU    128   2487R x 3C   [1D, 56B, 56I]   \n",
      "  3  GTI           1 BinTableHDU    258   5R x 2C   [D, D]   \n",
      "  4  GTI_DET10     1 BinTableHDU    224   4R x 2C   [D, D]   \n",
      "  5  GTI_DET21     1 BinTableHDU    225   2R x 2C   [D, D]   \n",
      "  6  GTI_DET42     1 BinTableHDU    225   37R x 2C   [D, D]   \n",
      "  7  GTI_DET43     1 BinTableHDU    225   3R x 2C   [D, D]   \n",
      "  8  GTI_MPU0      1 BinTableHDU    264   24R x 2C   [D, D]   \n",
      "  9  GTI_MPU1      1 BinTableHDU    257   38R x 2C   [D, D]   \n",
      " 10  GTI_MPU2      1 BinTableHDU    261   37R x 2C   [D, D]   \n",
      " 11  GTI_MPU3      1 BinTableHDU    264   3R x 2C   [D, D]   \n",
      " 12  GTI_MPU4      1 BinTableHDU    264   38R x 2C   [D, D]   \n",
      " 13  GTI_MPU5      1 BinTableHDU    264   31R x 2C   [D, D]   \n",
      " 14  GTI_MPU6      1 BinTableHDU    260   30R x 2C   [D, D]   \n"
     ]
    }
   ],
   "source": [
    "hdul=fits.open('./reduced_output/6050390231/ni6050390231_0mpu7_cl_night_barycorr_orbit_piexpiex_yes_phase_added.evt')\n",
    "hdul.info()"
   ]
  },
  {
   "cell_type": "code",
   "execution_count": 118,
   "metadata": {},
   "outputs": [],
   "source": [
    "events=hdul[1]"
   ]
  },
  {
   "cell_type": "code",
   "execution_count": 119,
   "metadata": {},
   "outputs": [
    {
     "data": {
      "text/plain": [
       "ColDefs(\n",
       "    name = 'TIME'; format = '1D'; unit = 's'; disp = 'F20.9'\n",
       "    name = 'RAWX'; format = '1B'; unit = 'pixel'; coord_type = 'RAWX'; coord_ref_point = 0; coord_ref_value = 0.0; coord_inc = 1.0\n",
       "    name = 'RAWY'; format = '1B'; unit = 'pixel'; coord_type = 'RAWY'; coord_ref_point = 0; coord_ref_value = 0.0; coord_inc = 1.0\n",
       "    name = 'PHA'; format = '1I'; unit = 'chan'; null = -32768\n",
       "    name = 'PHA_FAST'; format = '1I'; unit = 'chan'; null = -32768\n",
       "    name = 'DET_ID'; format = '1B'; disp = 'I2.2'\n",
       "    name = 'DEADTIME'; format = '1B'; unit = 's'; bscale = 6.202e-07; bzero = 3.101e-07; disp = 'F11.9'\n",
       "    name = 'EVENT_FLAGS'; format = '8X'\n",
       "    name = 'TICK'; format = '1K'\n",
       "    name = 'MPU_A_TEMP'; format = 'I'; unit = 'Celsius'; null = -1; bscale = 0.10600843; bzero = -273.42105; disp = 'F6.3'\n",
       "    name = 'MPU_UNDER_COUNT'; format = 'J'; null = -1\n",
       "    name = 'PI_FAST'; format = '1I'; unit = 'chan'; null = -32768\n",
       "    name = 'PI'; format = '1I'; unit = 'chan'; null = -32768\n",
       "    name = 'PI_RATIO'; format = '1E'\n",
       "    name = 'BARYTIME'; format = '1D'\n",
       "    name = 'ORBITTIME'; format = '1D'; unit = 'seconds'\n",
       "    name = 'ORBIT_REF_TIME'; format = '1D'\n",
       "    name = 'PHASE'; format = '1D'\n",
       ")"
      ]
     },
     "execution_count": 119,
     "metadata": {},
     "output_type": "execute_result"
    }
   ],
   "source": [
    "events.columns"
   ]
  },
  {
   "cell_type": "code",
   "execution_count": 120,
   "metadata": {},
   "outputs": [],
   "source": [
    "phase=events.data['PHASE']"
   ]
  },
  {
   "cell_type": "code",
   "execution_count": 121,
   "metadata": {},
   "outputs": [
    {
     "data": {
      "text/plain": [
       "1657510"
      ]
     },
     "execution_count": 121,
     "metadata": {},
     "output_type": "execute_result"
    }
   ],
   "source": [
    "phase.size"
   ]
  },
  {
   "cell_type": "code",
   "execution_count": 122,
   "metadata": {},
   "outputs": [
    {
     "data": {
      "image/png": "[encoded data removed]",
      "text/plain": [
       "<Figure size 640x480 with 1 Axes>"
      ]
     },
     "metadata": {},
     "output_type": "display_data"
    }
   ],
   "source": [
    "listed=plt.hist(phase,bins=64,histtype='step')\n",
    "# plt.ylim(13000)"
   ]
  },
  {
   "cell_type": "code",
   "execution_count": 123,
   "metadata": {},
   "outputs": [
    {
     "data": {
      "text/plain": [
       "(65, 64)"
      ]
     },
     "execution_count": 123,
     "metadata": {},
     "output_type": "execute_result"
    }
   ],
   "source": [
    "len(listed[1]),len(listed[0])"
   ]
  },
  {
   "cell_type": "code",
   "execution_count": 124,
   "metadata": {},
   "outputs": [
    {
     "data": {
      "text/plain": [
       "array([4.32002707e-07, 1.56254225e-02, 3.12504130e-02, 4.68754035e-02,\n",
       "       6.25003941e-02, 7.81253846e-02, 9.37503751e-02, 1.09375366e-01,\n",
       "       1.25000356e-01, 1.40625347e-01, 1.56250337e-01, 1.71875328e-01,\n",
       "       1.87500318e-01, 2.03125309e-01, 2.18750299e-01, 2.34375290e-01,\n",
       "       2.50000280e-01, 2.65625271e-01, 2.81250261e-01, 2.96875252e-01,\n",
       "       3.12500242e-01, 3.28125233e-01, 3.43750223e-01, 3.59375214e-01,\n",
       "       3.75000204e-01, 3.90625195e-01, 4.06250185e-01, 4.21875176e-01,\n",
       "       4.37500166e-01, 4.53125157e-01, 4.68750147e-01, 4.84375138e-01,\n",
       "       5.00000128e-01, 5.15625119e-01, 5.31250109e-01, 5.46875100e-01,\n",
       "       5.62500091e-01, 5.78125081e-01, 5.93750072e-01, 6.09375062e-01,\n",
       "       6.25000053e-01, 6.40625043e-01, 6.56250034e-01, 6.71875024e-01,\n",
       "       6.87500015e-01, 7.03125005e-01, 7.18749996e-01, 7.34374986e-01,\n",
       "       7.49999977e-01, 7.65624967e-01, 7.81249958e-01, 7.96874948e-01,\n",
       "       8.12499939e-01, 8.28124929e-01, 8.43749920e-01, 8.59374910e-01,\n",
       "       8.74999901e-01, 8.90624891e-01, 9.06249882e-01, 9.21874872e-01,\n",
       "       9.37499863e-01, 9.53124853e-01, 9.68749844e-01, 9.84374834e-01,\n",
       "       9.99999825e-01])"
      ]
     },
     "execution_count": 124,
     "metadata": {},
     "output_type": "execute_result"
    }
   ],
   "source": [
    "listed[1]"
   ]
  },
  {
   "cell_type": "code",
   "execution_count": 125,
   "metadata": {},
   "outputs": [
    {
     "data": {
      "text/plain": [
       "array([25196., 24321., 24088., 23746., 23486., 23455., 23581., 23646.,\n",
       "       23401., 23387., 23103., 23277., 23377., 24013., 23039., 23508.,\n",
       "       23236., 23485., 23060., 22606., 22751., 22619., 22484., 22546.,\n",
       "       22625., 22173., 22350., 22605., 22579., 22771., 22837., 23028.,\n",
       "       22938., 23094., 23253., 23540., 24446., 25384., 26684., 28098.,\n",
       "       29647., 30566., 30802., 31055., 31192., 31004., 30688., 31095.,\n",
       "       31682., 31156., 31600., 31382., 30884., 30294., 29880., 29269.,\n",
       "       29266., 29235., 29199., 28782., 28431., 27265., 27032., 26288.])"
      ]
     },
     "execution_count": 125,
     "metadata": {},
     "output_type": "execute_result"
    }
   ],
   "source": [
    "listed[0]"
   ]
  },
  {
   "cell_type": "code",
   "execution_count": 126,
   "metadata": {},
   "outputs": [
    {
     "data": {
      "image/png": "[encoded data removed]",
      "text/plain": [
       "<Figure size 640x480 with 1 Axes>"
      ]
     },
     "metadata": {},
     "output_type": "display_data"
    }
   ],
   "source": [
    "### Plot the profile as a line plot\n",
    "plt.plot(listed[1][1:],listed[0],'-o')\n",
    "plt.title(\"Plot of histogram of PHASE column as per NICER analysis thread\")\n",
    "plt.grid()"
   ]
  },
  {
   "cell_type": "code",
   "execution_count": null,
   "metadata": {},
   "outputs": [],
   "source": []
  }
 ],
 "metadata": {
  "kernelspec": {
   "display_name": "heasoftenv",
   "language": "python",
   "name": "python3"
  },
  "language_info": {
   "codemirror_mode": {
    "name": "ipython",
    "version": 3
   },
   "file_extension": ".py",
   "mimetype": "text/x-python",
   "name": "python",
   "nbconvert_exporter": "python",
   "pygments_lexer": "ipython3",
   "version": "3.11.9"
  }
 },
 "nbformat": 4,
 "nbformat_minor": 2
}
