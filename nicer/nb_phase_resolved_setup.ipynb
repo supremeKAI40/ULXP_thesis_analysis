{
 "cells": [
  {
   "cell_type": "code",
   "execution_count": 36,
   "metadata": {},
   "outputs": [],
   "source": [
    "from astropy.io import fits\n",
    "import matplotlib.pyplot as plt\n",
    "import numpy as np\n",
    "import os\n",
    "import re\n",
    "import subprocess"
   ]
  },
  {
   "cell_type": "code",
   "execution_count": 50,
   "metadata": {},
   "outputs": [],
   "source": [
    "## Function to find event files/lc files from the directory \n",
    "def find_event_files(base_directory):\n",
    "    event_files = []\n",
    "    \n",
    "    # Regular expression to match the pattern ObsID/xti/event_cl/\n",
    "    obsid_pattern = re.compile(r'^\\d{10}$')\n",
    "    #obsid_pattern = re.compile(r'^\\d{10}/xti/event_cl/$')\n",
    "    #For one file\n",
    "    #obsid_pattern = re.compile(r'6050390244/xti/event_cl/$')\n",
    "    \n",
    "    # Regular expressions to match the specific filename patterns\n",
    "    file_pattern = re.compile(r'^ni\\d{10}_0mpu7_cl_(night|daynotconsidered)_barycorr_orbit_piexpiex_yes.evt$')\n",
    "    #file_pattern = re.compile(r'^ni\\d{10}_cl_(night|day)mpu7_sr_night_barycorr.lc$')\n",
    "\n",
    "\n",
    "    for obsid_dir in os.listdir(base_directory):\n",
    "        obsid_path = os.path.join(base_directory, obsid_dir)\n",
    "\n",
    "        # Check if it's a directory and matches the 10-digit ObsID pattern\n",
    "        if os.path.isdir(obsid_path) and obsid_pattern.match(obsid_dir):\n",
    "            #print(f\"Found 10-digit ObsID folder: {obsid_dir}\")\n",
    "\n",
    "            # Look for files in this directory matching the .evt pattern\n",
    "            for file in os.listdir(obsid_path):\n",
    "                if file_pattern.match(file):\n",
    "                    full_path = os.path.join(obsid_path, file)\n",
    "                    event_files.append(full_path)\n",
    "                    # print(f\"Found .evt file: {full_path}\")\n",
    "\n",
    "    return event_files"
   ]
  },
  {
   "cell_type": "code",
   "execution_count": null,
   "metadata": {},
   "outputs": [
    {
     "name": "stdout",
     "output_type": "stream",
     "text": [
      "Total number of input event files found:  67\n",
      "*******Adding Orbit Time from common reference******\n",
      "Working on the file:  ./reduced_output/6050390261/ni6050390261_0mpu7_cl_night_barycorr_orbit_piexpiex_yes.evt\n",
      "6050390261\n",
      "Successfully saved as:  ./reduced_output/6050390261/ni6050390261_0mpu7_cl_night_barycorr_orbit_piexpiex_yes_phase_added.evt\n",
      "*******Adding Phase column in same file******\n",
      "Successfully saved as:  ./reduced_output/6050390261/ni6050390261_0mpu7_cl_night_barycorr_orbit_piexpiex_yes_phase_added.evt\n"
     ]
    }
   ],
   "source": [
    "base_directory='./reduced_output'\n",
    "\n",
    "test_input=\"/home/supremekai/thesis/J0243_6p6124/nicer/reduced_output/6050390231/ni6050390231_0mpu7_cl_night_barycorr_orbit_piexpiex_yes.evt\"\n",
    "test_output=\"/home/supremekai/thesis/J0243_6p6124/nicer/reduced_output/6050390231/ni6050390231_0mpu7_cl_night_barycorr_orbit_piexpiex_yes_trial_phase_resolved_test.evt\"\n",
    "\n",
    "#Running the code to find event files\n",
    "first_input_orbit_file_list=find_event_files(base_directory)\n",
    "print(\"Total number of input event files found: \",len(first_input_orbit_file_list))\n",
    "for first_input_file in first_input_orbit_file_list:\n",
    "    print(\"*******Adding Orbit Time from common reference******\")\n",
    "    print(\"Working on the file: \",first_input_file)\n",
    "    print(first_input_file.split(\"/\")[2])\n",
    "    first_output_file = first_input_file.replace(\".evt\", \"_phase_added.evt\")\n",
    "    first_ftcalc_command=f'ftcalc infile={first_input_file+\"[events]\"} outfile={first_output_file} column=ORBIT_REF_TIME expression=\"(ORBITTIME-(125979582.800))\" clobber=yes'\n",
    "    try:\n",
    "        subprocess.run(first_ftcalc_command,shell=True, check=True)\n",
    "        print(\"Successfully saved as: \",first_output_file)\n",
    "    except subprocess.CalledProcessError as e:\n",
    "        print(f\"Error processing {first_input_file}: {e}\")\n",
    "    \n",
    "\n",
    "    print(\"*******Adding Phase column in same file******\")\n",
    "    second_input_file=first_output_file\n",
    "    second_output_file=first_output_file\n",
    "    second_ftcalc_command=f'ftcalc infile={second_input_file+\"[events]\"} outfile={second_output_file} column=PHASE expression=\"(0.102035610428039*(ORBIT_REF_TIME))%1\" clobber=YES'                 \n",
    "    \n",
    "    try:\n",
    "        subprocess.run(second_ftcalc_command,shell=True, check=True)\n",
    "        print(\"Successfully saved as: \",second_output_file)\n",
    "    except subprocess.CalledProcessError as e:\n",
    "        print(f\"Error processing {first_input_file}: {e}\")\n",
    "    break\n",
    "\n"
   ]
  },
  {
   "cell_type": "code",
   "execution_count": 32,
   "metadata": {},
   "outputs": [
    {
     "name": "stdout",
     "output_type": "stream",
     "text": [
      "Filename: /home/supremekai/thesis/J0243_6p6124/nicer/reduced_output/6050390231/ni6050390231_0mpu7_cl_night_barycorr_orbit_piexpiex_yes_trial_phase_resolved_test.evt\n",
      "No.    Name      Ver    Type      Cards   Dimensions   Format\n",
      "  0  PRIMARY       1 PrimaryHDU      32   ()      \n",
      "  1  EVENTS        1 BinTableHDU    441   1657510R x 17C   [1D, 1B, 1B, 1I, 1I, 1B, 1B, 8X, 1K, I, J, 1I, 1I, 1E, 1D, 1D, 1D]   \n",
      "  2  FPM_SEL       1 BinTableHDU    128   2487R x 3C   [1D, 56B, 56I]   \n",
      "  3  GTI           1 BinTableHDU    258   5R x 2C   [D, D]   \n",
      "  4  GTI_DET10     1 BinTableHDU    224   4R x 2C   [D, D]   \n",
      "  5  GTI_DET21     1 BinTableHDU    225   2R x 2C   [D, D]   \n",
      "  6  GTI_DET42     1 BinTableHDU    225   37R x 2C   [D, D]   \n",
      "  7  GTI_DET43     1 BinTableHDU    225   3R x 2C   [D, D]   \n",
      "  8  GTI_MPU0      1 BinTableHDU    264   24R x 2C   [D, D]   \n",
      "  9  GTI_MPU1      1 BinTableHDU    257   38R x 2C   [D, D]   \n",
      " 10  GTI_MPU2      1 BinTableHDU    261   37R x 2C   [D, D]   \n",
      " 11  GTI_MPU3      1 BinTableHDU    264   3R x 2C   [D, D]   \n",
      " 12  GTI_MPU4      1 BinTableHDU    264   38R x 2C   [D, D]   \n",
      " 13  GTI_MPU5      1 BinTableHDU    264   31R x 2C   [D, D]   \n",
      " 14  GTI_MPU6      1 BinTableHDU    260   30R x 2C   [D, D]   \n"
     ]
    }
   ],
   "source": [
    "hdul=fits.open('/home/supremekai/thesis/J0243_6p6124/nicer/reduced_output/6050390231/ni6050390231_0mpu7_cl_night_barycorr_orbit_piexpiex_yes_trial_phase_resolved_test.evt')\n",
    "\n",
    "hdul.info()"
   ]
  },
  {
   "cell_type": "code",
   "execution_count": 33,
   "metadata": {},
   "outputs": [],
   "source": [
    "events=hdul[1]"
   ]
  },
  {
   "cell_type": "code",
   "execution_count": 34,
   "metadata": {},
   "outputs": [
    {
     "data": {
      "text/plain": [
       "ColDefs(\n",
       "    name = 'TIME'; format = '1D'; unit = 's'; disp = 'F20.9'\n",
       "    name = 'RAWX'; format = '1B'; unit = 'pixel'; coord_type = 'RAWX'; coord_ref_point = 0; coord_ref_value = 0.0; coord_inc = 1.0\n",
       "    name = 'RAWY'; format = '1B'; unit = 'pixel'; coord_type = 'RAWY'; coord_ref_point = 0; coord_ref_value = 0.0; coord_inc = 1.0\n",
       "    name = 'PHA'; format = '1I'; unit = 'chan'; null = -32768\n",
       "    name = 'PHA_FAST'; format = '1I'; unit = 'chan'; null = -32768\n",
       "    name = 'DET_ID'; format = '1B'; disp = 'I2.2'\n",
       "    name = 'DEADTIME'; format = '1B'; unit = 's'; bscale = 6.202e-07; bzero = 3.101e-07; disp = 'F11.9'\n",
       "    name = 'EVENT_FLAGS'; format = '8X'\n",
       "    name = 'TICK'; format = '1K'\n",
       "    name = 'MPU_A_TEMP'; format = 'I'; unit = 'Celsius'; null = -1; bscale = 0.10600843; bzero = -273.42105; disp = 'F6.3'\n",
       "    name = 'MPU_UNDER_COUNT'; format = 'J'; null = -1\n",
       "    name = 'PI_FAST'; format = '1I'; unit = 'chan'; null = -32768\n",
       "    name = 'PI'; format = '1I'; unit = 'chan'; null = -32768\n",
       "    name = 'PI_RATIO'; format = '1E'\n",
       "    name = 'BARYTIME'; format = '1D'\n",
       "    name = 'ORBITTIME'; format = '1D'; unit = 'seconds'\n",
       "    name = 'ORBIT_REF_TIME'; format = '1D'\n",
       ")"
      ]
     },
     "execution_count": 34,
     "metadata": {},
     "output_type": "execute_result"
    }
   ],
   "source": [
    "events.columns"
   ]
  },
  {
   "cell_type": "code",
   "execution_count": 4,
   "metadata": {},
   "outputs": [],
   "source": [
    "phase=events.data['PHASE']"
   ]
  },
  {
   "cell_type": "code",
   "execution_count": 5,
   "metadata": {},
   "outputs": [
    {
     "data": {
      "text/plain": [
       "1657510"
      ]
     },
     "execution_count": 5,
     "metadata": {},
     "output_type": "execute_result"
    }
   ],
   "source": [
    "phase.size"
   ]
  }
 ],
 "metadata": {
  "kernelspec": {
   "display_name": "heasoftenv",
   "language": "python",
   "name": "python3"
  },
  "language_info": {
   "codemirror_mode": {
    "name": "ipython",
    "version": 3
   },
   "file_extension": ".py",
   "mimetype": "text/x-python",
   "name": "python",
   "nbconvert_exporter": "python",
   "pygments_lexer": "ipython3",
   "version": "3.11.9"
  }
 },
 "nbformat": 4,
 "nbformat_minor": 2
}
